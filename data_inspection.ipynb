{
 "cells": [
  {
   "cell_type": "markdown",
   "metadata": {},
   "source": [
    "# Data loading and inspection"
   ]
  },
  {
   "cell_type": "code",
   "execution_count": 6,
   "metadata": {},
   "outputs": [
    {
     "name": "stdout",
     "output_type": "stream",
     "text": [
      "Train Peptides\n",
      "  visit_id  visit_month  patient_id UniProt   \n",
      "0     55_0            0          55  O00391  \\\n",
      "1     55_0            0          55  O00533   \n",
      "2     55_0            0          55  O00533   \n",
      "3     55_0            0          55  O00533   \n",
      "4     55_0            0          55  O00533   \n",
      "\n",
      "                                  Peptide  PeptideAbundance  \n",
      "0                           NEQEQPLGQWHLS           11254.3  \n",
      "1                             GNPEPTFSWTK          102060.0  \n",
      "2                         IEIPSSVQQVPTIIK          174185.0  \n",
      "3  KPQSAVYSTGSNGILLC(UniMod_4)EAEGEPQPTIK           27278.9  \n",
      "4                            SMEQNGPGLEYR           30838.7  \n",
      "Train Proteins\n",
      "  visit_id  visit_month  patient_id UniProt       NPX\n",
      "0     55_0            0          55  O00391   11254.3\n",
      "1     55_0            0          55  O00533  732430.0\n",
      "2     55_0            0          55  O00584   39585.8\n",
      "3     55_0            0          55  O14498   41526.9\n",
      "4     55_0            0          55  O14773   31238.0\n",
      "Train Clinical Data\n",
      "  visit_id  patient_id  visit_month  updrs_1  updrs_2  updrs_3  updrs_4   \n",
      "0     55_0          55            0     10.0      6.0     15.0      NaN  \\\n",
      "1     55_3          55            3     10.0      7.0     25.0      NaN   \n",
      "2     55_6          55            6      8.0     10.0     34.0      NaN   \n",
      "3     55_9          55            9      8.0      9.0     30.0      0.0   \n",
      "4    55_12          55           12     10.0     10.0     41.0      0.0   \n",
      "\n",
      "  upd23b_clinical_state_on_medication  \n",
      "0                                 NaN  \n",
      "1                                 NaN  \n",
      "2                                 NaN  \n",
      "3                                  On  \n",
      "4                                  On  \n",
      "Supplemental Clinical Data\n",
      "  visit_id  patient_id  visit_month  updrs_1  updrs_2  updrs_3  updrs_4   \n",
      "0     35_0          35            0      5.0      3.0     16.0      0.0  \\\n",
      "1    35_36          35           36      6.0      4.0     20.0      0.0   \n",
      "2     75_0          75            0      4.0      6.0     26.0      0.0   \n",
      "3    75_36          75           36      1.0      8.0     38.0      0.0   \n",
      "4    155_0         155            0      NaN      NaN      0.0      NaN   \n",
      "\n",
      "  upd23b_clinical_state_on_medication  \n",
      "0                                 NaN  \n",
      "1                                 NaN  \n",
      "2                                 NaN  \n",
      "3                                  On  \n",
      "4                                 NaN  \n"
     ]
    }
   ],
   "source": [
    "import utilspro\n",
    "# Unzipping the provided dataset\n",
    "\n",
    "with zipfile.ZipFile(\"data/amp-parkinsons-disease-progression-prediction_2.zip\", 'r') as zip_ref:\n",
    "    zip_ref.extractall(\"data/amp-parkinsons-disease-progression-prediction_2\")\n",
    "\n",
    "# Load each dataset into a dataframe\n",
    "train_peptides = pd.read_csv(\"data/amp-parkinsons-disease-progression-prediction_2/train_peptides.csv\")\n",
    "train_proteins = pd.read_csv(\"data/amp-parkinsons-disease-progression-prediction_2/train_proteins.csv\")\n",
    "train_clinical_data = pd.read_csv(\"data/amp-parkinsons-disease-progression-prediction_2/train_clinical_data.csv\")\n",
    "supplemental_clinical_data = pd.read_csv(\"data/amp-parkinsons-disease-progression-prediction_2/supplemental_clinical_data.csv\")\n",
    "\n",
    "# Inspecting the first few rows of each dataset\n",
    "dfs = {\n",
    "    \"Train Peptides\": train_peptides,\n",
    "    \"Train Proteins\": train_proteins,\n",
    "    \"Train Clinical Data\": train_clinical_data,\n",
    "    \"Supplemental Clinical Data\": supplemental_clinical_data\n",
    "}\n",
    "\n",
    "# Displaying the first few rows of each dataframe and setting truncation to False\n",
    "pd.set_option('display.max_colwidth', None)\n",
    "for name, df in dfs.items():\n",
    "    print(name)\n",
    "    print(df.head())\n",
    "\n"
   ]
  }
 ],
 "metadata": {
  "kernelspec": {
   "display_name": "Python 3",
   "language": "python",
   "name": "python3"
  },
  "language_info": {
   "codemirror_mode": {
    "name": "ipython",
    "version": 3
   },
   "file_extension": ".py",
   "mimetype": "text/x-python",
   "name": "python",
   "nbconvert_exporter": "python",
   "pygments_lexer": "ipython3",
   "version": "3.10.11"
  }
 },
 "nbformat": 4,
 "nbformat_minor": 2
}
