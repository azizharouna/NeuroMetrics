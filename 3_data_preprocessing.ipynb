{
 "cells": [
  {
   "cell_type": "markdown",
   "metadata": {},
   "source": [
    "# Data preprocessing"
   ]
  },
  {
   "cell_type": "code",
   "execution_count": 309,
   "metadata": {},
   "outputs": [],
   "source": [
    "%run utilspro.py"
   ]
  },
  {
   "cell_type": "code",
   "execution_count": 372,
   "metadata": {},
   "outputs": [],
   "source": [
    "# Concatenate the two dataframes\n",
    "combined_clinical_and_suppl = pd.concat([train_clinical_data, supplemental_clinical_data], axis=0)\n",
    "\n",
    "# Exclude the updrs columns and medication state from the list of columns\n",
    "columns_to_consider = [col for col in combined_clinical_and_suppl.columns if not col.startswith('updrs') and col != 'upd23b_clinical_state_on_medication']\n",
    "\n",
    "# Drop duplicates based on the selected columns\n",
    "unique_df = combined_clinical_and_suppl.drop_duplicates(subset=columns_to_consider)\n",
    "\n",
    "# Merge the dataframes on the common columns\n",
    "enriched_peptide_data = pd.merge(train_peptides, unique_df, on=['visit_id', 'visit_month', 'patient_id'], how='left')\n",
    "enriched_protein_data = pd.merge(enriched_peptide_data, train_proteins, on=['visit_id', 'visit_month', 'patient_id','UniProt'], how='left')\n",
    "\n",
    "# check for null values for  when udprs 3 is not null\n",
    "enriched_protein_data = enriched_protein_data[enriched_protein_data['updrs_3'].notnull()]\n",
    "# set the clinical state to off medication for all month 0 and 1,  that have null records\n",
    "enriched_protein_data.loc[(enriched_protein_data['visit_month'].isin([0,1,2,3])) & (enriched_protein_data['upd23b_clinical_state_on_medication'].isnull()), 'upd23b_clinical_state_on_medication'] = 'Off'"
   ]
  },
  {
   "cell_type": "code",
   "execution_count": 373,
   "metadata": {},
   "outputs": [
    {
     "data": {
      "text/plain": [
       "visit_id                                    0\n",
       "visit_month                                 0\n",
       "patient_id                                  0\n",
       "UniProt                                     0\n",
       "Peptide                                     0\n",
       "PeptideAbundance                            0\n",
       "updrs_1                                     0\n",
       "updrs_2                                     0\n",
       "updrs_3                                     0\n",
       "updrs_4                                441672\n",
       "upd23b_clinical_state_on_medication    396104\n",
       "NPX                                         0\n",
       "dtype: int64"
      ]
     },
     "execution_count": 373,
     "metadata": {},
     "output_type": "execute_result"
    }
   ],
   "source": [
    "# check the null values for each column\n",
    "enriched_protein_data.isnull().sum()"
   ]
  },
  {
   "cell_type": "code",
   "execution_count": 375,
   "metadata": {},
   "outputs": [
    {
     "data": {
      "text/plain": [
       "84711"
      ]
     },
     "execution_count": 375,
     "metadata": {},
     "output_type": "execute_result"
    }
   ],
   "source": [
    "# for medication state null records, check the visit status and set the medication state to that value\n",
    "# Sort the data by 'patient_id' and 'visit_month'\n",
    "clinical_data_sorted = enriched_protein_data.sort_values(by=['patient_id', 'visit_month'])\n",
    "\n",
    "# Forward-fill the 'upd23b_clinical_state_on_medication' column within each 'patient_id' group\n",
    "clinical_data_sorted['upd23b_clinical_state_on_medication'] = clinical_data_sorted.groupby('patient_id')['upd23b_clinical_state_on_medication'].fillna(method='ffill')\n",
    "\n",
    "# Check remaining null values in 'upd23b_clinical_state_on_medication'\n",
    "remaining_nulls = clinical_data_sorted['upd23b_clinical_state_on_medication'].isnull().sum()\n",
    "remaining_nulls"
   ]
  },
  {
   "cell_type": "code",
   "execution_count": 376,
   "metadata": {},
   "outputs": [
    {
     "data": {
      "text/plain": [
       "63683"
      ]
     },
     "execution_count": 376,
     "metadata": {},
     "output_type": "execute_result"
    }
   ],
   "source": [
    "# Apply backward fill for the remaining null values within each 'patient_id' group\n",
    "clinical_data_sorted['upd23b_clinical_state_on_medication'] = clinical_data_sorted.groupby('patient_id')['upd23b_clinical_state_on_medication'].fillna(method='bfill')\n",
    "\n",
    "# Check if there are any more null values in 'upd23b_clinical_state_on_medication'\n",
    "remaining_nulls_after_bfill = clinical_data_sorted['upd23b_clinical_state_on_medication'].isnull().sum()\n",
    "remaining_nulls_after_bfill\n"
   ]
  },
  {
   "cell_type": "code",
   "execution_count": 317,
   "metadata": {},
   "outputs": [
    {
     "name": "stdout",
     "output_type": "stream",
     "text": [
      "Patient 942 has null values for all records\n",
      "Patient 5036 has null values for all records\n",
      "Patient 6420 has null values for all records\n",
      "Patient 7151 has null values for all records\n",
      "Patient 13360 has null values for all records\n",
      "Patient 17201 has null values for all records\n",
      "Patient 20581 has null values for all records\n",
      "Patient 20707 has null values for all records\n",
      "Patient 20792 has null values for all records\n",
      "Patient 23175 has null values for all records\n",
      "Patient 24818 has null values for all records\n",
      "Patient 27987 has null values for all records\n",
      "Patient 31270 has null values for all records\n",
      "Patient 33108 has null values for all records\n",
      "Patient 47171 has null values for all records\n",
      "Patient 51708 has null values for all records\n",
      "Patient 52119 has null values for all records\n",
      "Patient 57468 has null values for all records\n",
      "Patient 58674 has null values for all records\n",
      "Patient 60788 has null values for all records\n"
     ]
    },
    {
     "data": {
      "text/plain": [
       "63683"
      ]
     },
     "execution_count": 317,
     "metadata": {},
     "output_type": "execute_result"
    }
   ],
   "source": [
    "# check for those patients if the medication state is null for all the records\n",
    "patients_with_nulls = clinical_data_sorted[clinical_data_sorted['upd23b_clinical_state_on_medication'].isnull()]['patient_id'].unique()\n",
    "for patient in patients_with_nulls:\n",
    "    if clinical_data_sorted[clinical_data_sorted['patient_id'] == patient]['upd23b_clinical_state_on_medication'].isnull().sum() == len(clinical_data_sorted[clinical_data_sorted['patient_id'] == patient]):\n",
    "        print(\"Patient {} has null values for all records\".format(patient))\n",
    "    else:\n",
    "        print(\"Patient {} has null values for some records\".format(patient))\n",
    "# sum all the null values for the medication state\n",
    "clinical_data_sorted['upd23b_clinical_state_on_medication'].isnull().sum()"
   ]
  },
  {
   "cell_type": "code",
   "execution_count": 377,
   "metadata": {},
   "outputs": [],
   "source": [
    "# set the medication state to off for all the patients with null medication state\n",
    "clinical_data_sorted.loc[clinical_data_sorted['upd23b_clinical_state_on_medication'].isnull(), 'upd23b_clinical_state_on_medication'] = 'Off'\n",
    "\n",
    "# Apply the interpolation function to each patient's data\n",
    "clinical_data_interpolated = clinical_data_sorted.groupby('patient_id').apply(interpolate_updrs)\n",
    "\n",
    "# Check remaining null values for UPDRS scores after interpolation\n",
    "remaining_nulls_updrs_after_interpolation = clinical_data_interpolated[['updrs_1', 'updrs_2', 'updrs_3', 'updrs_4']].isnull().sum()\n",
    "# Backward fill within each 'patient_id' group\n",
    "clinical_data_interpolated['updrs_4'] = clinical_data_interpolated.groupby('patient_id')['updrs_4'].fillna(method='bfill')"
   ]
  },
  {
   "cell_type": "code",
   "execution_count": 378,
   "metadata": {},
   "outputs": [
    {
     "data": {
      "text/plain": [
       "visit_id                                    0\n",
       "visit_month                                 0\n",
       "patient_id                                  0\n",
       "UniProt                                     0\n",
       "Peptide                                     0\n",
       "PeptideAbundance                            0\n",
       "updrs_1                                     0\n",
       "updrs_2                                     0\n",
       "updrs_3                                     0\n",
       "updrs_4                                244966\n",
       "upd23b_clinical_state_on_medication         0\n",
       "NPX                                         0\n",
       "dtype: int64"
      ]
     },
     "execution_count": 378,
     "metadata": {},
     "output_type": "execute_result"
    }
   ],
   "source": [
    "#check if there are any null values in the medication state column\n",
    "clinical_data_interpolated.isnull().sum()"
   ]
  },
  {
   "cell_type": "code",
   "execution_count": 379,
   "metadata": {},
   "outputs": [
    {
     "data": {
      "text/plain": [
       "visit_id                               0\n",
       "visit_month                            0\n",
       "patient_id                             0\n",
       "UniProt                                0\n",
       "Peptide                                0\n",
       "PeptideAbundance                       0\n",
       "updrs_1                                0\n",
       "updrs_2                                0\n",
       "updrs_3                                0\n",
       "updrs_4                                0\n",
       "upd23b_clinical_state_on_medication    0\n",
       "NPX                                    0\n",
       "dtype: int64"
      ]
     },
     "execution_count": 379,
     "metadata": {},
     "output_type": "execute_result"
    }
   ],
   "source": [
    "# Forward fill for the remaining null values within each 'patient_id' group\n",
    "clinical_data_interpolated['updrs_4'] = clinical_data_interpolated.groupby('patient_id')['updrs_4'].fillna(method='ffill')\n",
    "\n",
    "# If there are still null values, fill them with the median value of the 'updrs_3' column\n",
    "clinical_data_interpolated['updrs_4'] = clinical_data_interpolated['updrs_4'].fillna(clinical_data_interpolated['updrs_4'].median())\n",
    "\n",
    "# Check remaining null values for 'updrs_3'\n",
    "remaining_nulls = clinical_data_interpolated.isnull().sum()\n",
    "remaining_nulls"
   ]
  },
  {
   "cell_type": "code",
   "execution_count": 382,
   "metadata": {},
   "outputs": [
    {
     "data": {
      "text/html": [
       "<div>\n",
       "<style scoped>\n",
       "    .dataframe tbody tr th:only-of-type {\n",
       "        vertical-align: middle;\n",
       "    }\n",
       "\n",
       "    .dataframe tbody tr th {\n",
       "        vertical-align: top;\n",
       "    }\n",
       "\n",
       "    .dataframe thead th {\n",
       "        text-align: right;\n",
       "    }\n",
       "</style>\n",
       "<table border=\"1\" class=\"dataframe\">\n",
       "  <thead>\n",
       "    <tr style=\"text-align: right;\">\n",
       "      <th></th>\n",
       "      <th>Column</th>\n",
       "      <th>Dtype</th>\n",
       "      <th>Null Count</th>\n",
       "      <th>Unique Count</th>\n",
       "      <th>% Missing</th>\n",
       "      <th>1st Mode</th>\n",
       "      <th>2nd Mode</th>\n",
       "      <th>3rd Mode</th>\n",
       "    </tr>\n",
       "  </thead>\n",
       "  <tbody>\n",
       "    <tr>\n",
       "      <th>0</th>\n",
       "      <td>visit_id</td>\n",
       "      <td>object</td>\n",
       "      <td>0</td>\n",
       "      <td>1058</td>\n",
       "      <td>0.0</td>\n",
       "      <td>16574_12</td>\n",
       "      <td>35477_48</td>\n",
       "      <td>35477_60</td>\n",
       "    </tr>\n",
       "    <tr>\n",
       "      <th>1</th>\n",
       "      <td>visit_month</td>\n",
       "      <td>int64</td>\n",
       "      <td>0</td>\n",
       "      <td>15</td>\n",
       "      <td>0.0</td>\n",
       "      <td>0</td>\n",
       "      <td>12</td>\n",
       "      <td>24</td>\n",
       "    </tr>\n",
       "    <tr>\n",
       "      <th>2</th>\n",
       "      <td>patient_id</td>\n",
       "      <td>int64</td>\n",
       "      <td>0</td>\n",
       "      <td>248</td>\n",
       "      <td>0.0</td>\n",
       "      <td>23391</td>\n",
       "      <td>62723</td>\n",
       "      <td>26210</td>\n",
       "    </tr>\n",
       "    <tr>\n",
       "      <th>3</th>\n",
       "      <td>UniProt</td>\n",
       "      <td>object</td>\n",
       "      <td>0</td>\n",
       "      <td>227</td>\n",
       "      <td>0.0</td>\n",
       "      <td>P02787</td>\n",
       "      <td>P02768</td>\n",
       "      <td>P01024</td>\n",
       "    </tr>\n",
       "    <tr>\n",
       "      <th>4</th>\n",
       "      <td>Peptide</td>\n",
       "      <td>object</td>\n",
       "      <td>0</td>\n",
       "      <td>968</td>\n",
       "      <td>0.0</td>\n",
       "      <td>AYQGVAAPFPK</td>\n",
       "      <td>YKAAFTEC(UniMod_4)C(UniMod_4)QAADK</td>\n",
       "      <td>TLLSNLEEAK</td>\n",
       "    </tr>\n",
       "    <tr>\n",
       "      <th>5</th>\n",
       "      <td>PeptideAbundance</td>\n",
       "      <td>float64</td>\n",
       "      <td>0</td>\n",
       "      <td>710694</td>\n",
       "      <td>0.0</td>\n",
       "      <td>109591.0</td>\n",
       "      <td>127056.0</td>\n",
       "      <td>144004.0</td>\n",
       "    </tr>\n",
       "    <tr>\n",
       "      <th>6</th>\n",
       "      <td>updrs_1</td>\n",
       "      <td>float64</td>\n",
       "      <td>0</td>\n",
       "      <td>30</td>\n",
       "      <td>0.0</td>\n",
       "      <td>1.0</td>\n",
       "      <td>2.0</td>\n",
       "      <td>5.0</td>\n",
       "    </tr>\n",
       "    <tr>\n",
       "      <th>7</th>\n",
       "      <td>updrs_2</td>\n",
       "      <td>float64</td>\n",
       "      <td>0</td>\n",
       "      <td>29</td>\n",
       "      <td>0.0</td>\n",
       "      <td>0.0</td>\n",
       "      <td>2.0</td>\n",
       "      <td>3.0</td>\n",
       "    </tr>\n",
       "    <tr>\n",
       "      <th>8</th>\n",
       "      <td>updrs_3</td>\n",
       "      <td>float64</td>\n",
       "      <td>0</td>\n",
       "      <td>64</td>\n",
       "      <td>0.0</td>\n",
       "      <td>0.0</td>\n",
       "      <td>1.0</td>\n",
       "      <td>2.0</td>\n",
       "    </tr>\n",
       "    <tr>\n",
       "      <th>9</th>\n",
       "      <td>updrs_4</td>\n",
       "      <td>float64</td>\n",
       "      <td>0</td>\n",
       "      <td>17</td>\n",
       "      <td>0.0</td>\n",
       "      <td>0.0</td>\n",
       "      <td>4.0</td>\n",
       "      <td>3.0</td>\n",
       "    </tr>\n",
       "    <tr>\n",
       "      <th>10</th>\n",
       "      <td>upd23b_clinical_state_on_medication</td>\n",
       "      <td>object</td>\n",
       "      <td>0</td>\n",
       "      <td>2</td>\n",
       "      <td>0.0</td>\n",
       "      <td>Off</td>\n",
       "      <td>On</td>\n",
       "      <td>None</td>\n",
       "    </tr>\n",
       "    <tr>\n",
       "      <th>11</th>\n",
       "      <td>NPX</td>\n",
       "      <td>float64</td>\n",
       "      <td>0</td>\n",
       "      <td>208459</td>\n",
       "      <td>0.0</td>\n",
       "      <td>296853000.0</td>\n",
       "      <td>278634000.0</td>\n",
       "      <td>1167050.0</td>\n",
       "    </tr>\n",
       "    <tr>\n",
       "      <th>12</th>\n",
       "      <td>time_since_diagnosis</td>\n",
       "      <td>int64</td>\n",
       "      <td>0</td>\n",
       "      <td>20</td>\n",
       "      <td>0.0</td>\n",
       "      <td>0</td>\n",
       "      <td>12</td>\n",
       "      <td>24</td>\n",
       "    </tr>\n",
       "    <tr>\n",
       "      <th>13</th>\n",
       "      <td>UniProt_encoded</td>\n",
       "      <td>int64</td>\n",
       "      <td>0</td>\n",
       "      <td>213</td>\n",
       "      <td>0.0</td>\n",
       "      <td>49340</td>\n",
       "      <td>38875</td>\n",
       "      <td>33501</td>\n",
       "    </tr>\n",
       "    <tr>\n",
       "      <th>14</th>\n",
       "      <td>medication_numeric</td>\n",
       "      <td>int64</td>\n",
       "      <td>0</td>\n",
       "      <td>2</td>\n",
       "      <td>0.0</td>\n",
       "      <td>0</td>\n",
       "      <td>1</td>\n",
       "      <td>None</td>\n",
       "    </tr>\n",
       "  </tbody>\n",
       "</table>\n",
       "</div>"
      ],
      "text/plain": [
       "                                 Column    Dtype  Null Count  Unique Count  \\\n",
       "0                              visit_id   object           0          1058   \n",
       "1                           visit_month    int64           0            15   \n",
       "2                            patient_id    int64           0           248   \n",
       "3                               UniProt   object           0           227   \n",
       "4                               Peptide   object           0           968   \n",
       "5                      PeptideAbundance  float64           0        710694   \n",
       "6                               updrs_1  float64           0            30   \n",
       "7                               updrs_2  float64           0            29   \n",
       "8                               updrs_3  float64           0            64   \n",
       "9                               updrs_4  float64           0            17   \n",
       "10  upd23b_clinical_state_on_medication   object           0             2   \n",
       "11                                  NPX  float64           0        208459   \n",
       "12                 time_since_diagnosis    int64           0            20   \n",
       "13                      UniProt_encoded    int64           0           213   \n",
       "14                   medication_numeric    int64           0             2   \n",
       "\n",
       "    % Missing     1st Mode                            2nd Mode    3rd Mode  \n",
       "0         0.0     16574_12                            35477_48    35477_60  \n",
       "1         0.0            0                                  12          24  \n",
       "2         0.0        23391                               62723       26210  \n",
       "3         0.0       P02787                              P02768      P01024  \n",
       "4         0.0  AYQGVAAPFPK  YKAAFTEC(UniMod_4)C(UniMod_4)QAADK  TLLSNLEEAK  \n",
       "5         0.0     109591.0                            127056.0    144004.0  \n",
       "6         0.0          1.0                                 2.0         5.0  \n",
       "7         0.0          0.0                                 2.0         3.0  \n",
       "8         0.0          0.0                                 1.0         2.0  \n",
       "9         0.0          0.0                                 4.0         3.0  \n",
       "10        0.0          Off                                  On        None  \n",
       "11        0.0  296853000.0                         278634000.0   1167050.0  \n",
       "12        0.0            0                                  12          24  \n",
       "13        0.0        49340                               38875       33501  \n",
       "14        0.0            0                                   1        None  "
      ]
     },
     "execution_count": 382,
     "metadata": {},
     "output_type": "execute_result"
    }
   ],
   "source": [
    "# Sort data by patient_id and visit_month for sequential calculations\n",
    "clinical_data_sorted_2 = clinical_data_interpolated.sort_values(by=['patient_id', 'visit_month'])\n",
    "\n",
    "# Add Time Since Diagnosis feature\n",
    "clinical_data_sorted_2['time_since_diagnosis'] = clinical_data_sorted_2.groupby('patient_id')['visit_month'].transform(lambda x: x - x.min())\n",
    "# Encode the 'UniProt' column\n",
    "clinical_data_sorted_2 = frequency_encode(clinical_data_sorted_2, 'UniProt')\n",
    "# Encode  medication state to numeric for interaction (On=1, Off=0)\n",
    "clinical_data_sorted_2['medication_numeric'] = clinical_data_sorted_2['upd23b_clinical_state_on_medication'].map({'On': 1, 'Off': 0})\n",
    "\n",
    "optimized_info_df_v5(clinical_data_sorted_2)"
   ]
  },
  {
   "cell_type": "code",
   "execution_count": 389,
   "metadata": {},
   "outputs": [],
   "source": [
    "%run utilspro.py\n"
   ]
  },
  {
   "cell_type": "code",
   "execution_count": 391,
   "metadata": {},
   "outputs": [
    {
     "name": "stdout",
     "output_type": "stream",
     "text": [
      "Features: ['medication_numeric', 'updrs_1']\n",
      "Mean Squared Error: 178.75597666583218\n",
      "Mean Absolute Error: 10.967519273658393\n",
      "R-squared: 0.20668183021479847\n",
      "-------------------------\n",
      "Features: ['medication_numeric', 'updrs_1', 'updrs_2']\n",
      "Mean Squared Error: 91.30949819071914\n",
      "Mean Absolute Error: 7.596853945179897\n",
      "R-squared: 0.5947688835932927\n",
      "-------------------------\n",
      "Features: ['medication_numeric', 'updrs_1', 'updrs_2', 'updrs_4']\n",
      "Mean Squared Error: 91.27749383911883\n",
      "Mean Absolute Error: 7.601382807390646\n",
      "R-squared: 0.5949109187526775\n",
      "-------------------------\n",
      "Features: ['medication_numeric', 'updrs_1', 'updrs_2', 'updrs_4', 'time_since_diagnosis']\n",
      "Mean Squared Error: 91.05072653281412\n",
      "Mean Absolute Error: 7.6187067096844645\n",
      "R-squared: 0.5959173109738511\n",
      "-------------------------\n",
      "Features: ['medication_numeric', 'updrs_1', 'updrs_2', 'updrs_4', 'time_since_diagnosis', 'UniProt_encoded']\n",
      "Mean Squared Error: 91.05074634796644\n",
      "Mean Absolute Error: 7.6187083294821925\n",
      "R-squared: 0.5959172230343\n",
      "-------------------------\n",
      "Features: ['medication_numeric', 'updrs_1', 'updrs_2', 'updrs_4', 'time_since_diagnosis', 'UniProt_encoded', 'NPX']\n",
      "Mean Squared Error: 91.05029360549163\n",
      "Mean Absolute Error: 7.6186848768124475\n",
      "R-squared: 0.5959192323032384\n",
      "-------------------------\n",
      "Features: ['medication_numeric', 'updrs_1', 'updrs_2', 'updrs_4', 'time_since_diagnosis', 'UniProt_encoded', 'NPX', 'PeptideAbundance']\n",
      "Mean Squared Error: 91.05031042419436\n",
      "Mean Absolute Error: 7.6186836634169905\n",
      "R-squared: 0.595919157661916\n",
      "-------------------------\n"
     ]
    }
   ],
   "source": [
    "# Feature selection\n",
    "all_features = ['updrs_1', 'updrs_2', 'updrs_4', 'time_since_diagnosis', 'medication_numeric', 'UniProt_encoded' ,'NPX', 'PeptideAbundance']\n",
    "results = iterative_modeling(clinical_data_sorted_2, all_features)\n",
    "\n",
    "# Display the results\n",
    "for metrics in results:\n",
    "     print(f\"Features: {metrics['features']}\")\n",
    "     print(f\"Mean Squared Error: {metrics['mse']}\")\n",
    "     print(f\"Mean Absolute Error: {metrics['mae']}\")\n",
    "     print(f\"R-squared: {metrics['r2']}\")\n",
    "     print(\"-------------------------\")"
   ]
  },
  {
   "cell_type": "markdown",
   "metadata": {},
   "source": [
    "## 3.  Encoding, Feature Scaling, and Splitting the data "
   ]
  },
  {
   "cell_type": "code",
   "execution_count": 393,
   "metadata": {
    "execution": {
     "iopub.execute_input": "2023-10-15T16:42:27.901573Z",
     "iopub.status.busy": "2023-10-15T16:42:27.901171Z",
     "iopub.status.idle": "2023-10-15T16:42:27.915575Z",
     "shell.execute_reply": "2023-10-15T16:42:27.914860Z"
    }
   },
   "outputs": [
    {
     "data": {
      "text/plain": [
       "((746099, 7), (186525, 7))"
      ]
     },
     "execution_count": 393,
     "metadata": {},
     "output_type": "execute_result"
    }
   ],
   "source": [
    "# Set the selected features in a list and the target variable\n",
    "selected_features = ['updrs_1', 'updrs_2', 'updrs_4', 'time_since_diagnosis', 'medication_numeric', 'UniProt_encoded', 'NPX']\n",
    "target = 'updrs_3'\n",
    "\n",
    "X = clinical_data_sorted_2[selected_features]\n",
    "y = clinical_data_sorted_2[target]\n",
    "\n",
    "# Split the data into training and test sets (80% train, 20% test)\n",
    "X_train, X_test, y_train, y_test = train_test_split(X, y, test_size=0.2, random_state=42)\n",
    "\n",
    "# Feature scaling\n",
    "scaler = StandardScaler()\n",
    "X_train_scaled = scaler.fit_transform(X_train)\n",
    "X_test_scaled = scaler.transform(X_test)\n",
    "X_train_scaled.shape, X_test_scaled.shape"
   ]
  },
  {
   "cell_type": "markdown",
   "metadata": {},
   "source": [
    "The data has been successfully scaled and encoded. The training set contains 746099 samples, while the test set contains 186525 samples. Each sample has 7 features: 'updrs_1', 'updrs_2', 'updrs_4', 'time_since_diagnosis', 'medication_numeric', 'UniProt_encoded', 'NPX'."
   ]
  }
 ],
 "metadata": {
  "kernelspec": {
   "display_name": "Python 3",
   "language": "python",
   "name": "python3"
  },
  "language_info": {
   "codemirror_mode": {
    "name": "ipython",
    "version": 3
   },
   "file_extension": ".py",
   "mimetype": "text/x-python",
   "name": "python",
   "nbconvert_exporter": "python",
   "pygments_lexer": "ipython3",
   "version": "3.7.9"
  }
 },
 "nbformat": 4,
 "nbformat_minor": 2
}
