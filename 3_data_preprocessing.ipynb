{
 "cells": [
  {
   "cell_type": "markdown",
   "metadata": {},
   "source": [
    "# Data preprocessing\n",
    "##  1. Importing the libraries and dataset"
   ]
  },
  {
   "cell_type": "code",
   "execution_count": null,
   "metadata": {},
   "outputs": [],
   "source": [
    "%run utilspro.py"
   ]
  },
  {
   "cell_type": "markdown",
   "metadata": {},
   "source": [
    "## 2. Data cleaning: Handling missing values and outliers"
   ]
  },
  {
   "cell_type": "code",
   "execution_count": 3,
   "metadata": {},
   "outputs": [
    {
     "data": {
      "text/plain": [
       "updrs_1                                   1\n",
       "updrs_2                                   2\n",
       "updrs_3                                  25\n",
       "updrs_4                                1038\n",
       "upd23b_clinical_state_on_medication    1327\n",
       "dtype: int64"
      ]
     },
     "execution_count": 3,
     "metadata": {},
     "output_type": "execute_result"
    }
   ],
   "source": [
    "# Check for missing values in train_clinical_data\n",
    "missing_values = train_clinical_data.isnull().sum()\n",
    "missing_values[missing_values > 0]"
   ]
  },
  {
   "cell_type": "markdown",
   "metadata": {},
   "source": [
    "For the UPDRS scores, we can impute the missing values with the median value since it's less sensitive to outliers. For the upd23b_clinical_state_on_medication column, since it's categorical, we can impute with the most frequent value."
   ]
  },
  {
   "cell_type": "code",
   "execution_count": 4,
   "metadata": {},
   "outputs": [
    {
     "data": {
      "text/plain": [
       "Series([], dtype: int64)"
      ]
     },
     "execution_count": 4,
     "metadata": {},
     "output_type": "execute_result"
    }
   ],
   "source": [
    "# Impute missing values for UPDRS scores with median value\n",
    "for column in ['updrs_1', 'updrs_2', 'updrs_3', 'updrs_4']:\n",
    "    median_value = train_clinical_data[column].median()\n",
    "    train_clinical_data[column].fillna(median_value, inplace=True)\n",
    "\n",
    "# Impute missing values for upd23b_clinical_state_on_medication with most frequent value\n",
    "most_frequent_value = train_clinical_data['upd23b_clinical_state_on_medication'].mode()[0]\n",
    "train_clinical_data['upd23b_clinical_state_on_medication'].fillna(most_frequent_value, inplace=True)\n",
    "\n",
    "# Check again for missing values\n",
    "missing_after_imputation = train_clinical_data.isnull().sum()\n",
    "\n",
    "missing_after_imputation[missing_after_imputation > 0]\n"
   ]
  },
  {
   "cell_type": "markdown",
   "metadata": {},
   "source": [
    "The missing values have been successfully imputed, and there are no more missing values in the train_clinical_data dataset.\n",
    "\n",
    "Next, let's handle outliers. For this analysis, we'll focus on UPDRS scores, as these are our target variables."
   ]
  },
  {
   "cell_type": "code",
   "execution_count": null,
   "metadata": {},
   "outputs": [],
   "source": []
  },
  {
   "cell_type": "markdown",
   "metadata": {},
   "source": [
    "## 3. Feature Scaling: Scale features to have a similar range."
   ]
  },
  {
   "cell_type": "code",
   "execution_count": null,
   "metadata": {},
   "outputs": [],
   "source": []
  },
  {
   "cell_type": "markdown",
   "metadata": {},
   "source": [
    "## 4. Encoding and spliting the data"
   ]
  },
  {
   "cell_type": "markdown",
   "metadata": {},
   "source": []
  }
 ],
 "metadata": {
  "kernelspec": {
   "display_name": "Python 3",
   "language": "python",
   "name": "python3"
  },
  "language_info": {
   "codemirror_mode": {
    "name": "ipython",
    "version": 3
   },
   "file_extension": ".py",
   "mimetype": "text/x-python",
   "name": "python",
   "nbconvert_exporter": "python",
   "pygments_lexer": "ipython3",
   "version": "3.10.11"
  }
 },
 "nbformat": 4,
 "nbformat_minor": 2
}
