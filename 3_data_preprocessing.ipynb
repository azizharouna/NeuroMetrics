{
 "cells": [
  {
   "cell_type": "markdown",
   "metadata": {},
   "source": [
    "# Data preprocessing\n",
    "##  1. Importing the libraries and dataset"
   ]
  },
  {
   "cell_type": "code",
   "execution_count": 36,
   "metadata": {},
   "outputs": [],
   "source": [
    "%run utilspro.py"
   ]
  },
  {
   "cell_type": "markdown",
   "metadata": {},
   "source": [
    "## 2. Data cleaning: Handling missing values and outliers"
   ]
  },
  {
   "cell_type": "code",
   "execution_count": 24,
   "metadata": {},
   "outputs": [
    {
     "data": {
      "text/plain": [
       "updrs_1                                   1\n",
       "updrs_2                                   2\n",
       "updrs_3                                  25\n",
       "updrs_4                                1038\n",
       "upd23b_clinical_state_on_medication    1327\n",
       "dtype: int64"
      ]
     },
     "execution_count": 24,
     "metadata": {},
     "output_type": "execute_result"
    }
   ],
   "source": [
    "# Check for missing values in train_clinical_data\n",
    "missing_values = train_clinical_data.isnull().sum()\n",
    "missing_values[missing_values > 0]"
   ]
  },
  {
   "cell_type": "markdown",
   "metadata": {},
   "source": [
    "For the UPDRS scores, we can impute the missing values with the median value since it's less sensitive to outliers. For the upd23b_clinical_state_on_medication column, since it's categorical, we can impute with the most frequent value."
   ]
  },
  {
   "cell_type": "code",
   "execution_count": 25,
   "metadata": {},
   "outputs": [
    {
     "data": {
      "text/plain": [
       "Series([], dtype: int64)"
      ]
     },
     "execution_count": 25,
     "metadata": {},
     "output_type": "execute_result"
    }
   ],
   "source": [
    "# Impute missing values for UPDRS scores with median value\n",
    "for column in ['updrs_1', 'updrs_2', 'updrs_3', 'updrs_4']:\n",
    "    median_value = train_clinical_data[column].median()\n",
    "    train_clinical_data[column].fillna(median_value, inplace=True)\n",
    "\n",
    "# Impute missing values for upd23b_clinical_state_on_medication with most frequent value\n",
    "most_frequent_value = train_clinical_data['upd23b_clinical_state_on_medication'].mode()[0]\n",
    "train_clinical_data['upd23b_clinical_state_on_medication'].fillna(most_frequent_value, inplace=True)\n",
    "\n",
    "# Check again for missing values\n",
    "missing_after_imputation = train_clinical_data.isnull().sum()\n",
    "\n",
    "missing_after_imputation[missing_after_imputation > 0]\n"
   ]
  },
  {
   "cell_type": "markdown",
   "metadata": {},
   "source": [
    "The missing values have been successfully imputed, and there are no more missing values in the train_clinical_data dataset.\n",
    "\n",
    "Next, let's handle outliers. For this analysis, we'll focus on UPDRS scores, as these are our target variables."
   ]
  },
  {
   "cell_type": "code",
   "execution_count": 26,
   "metadata": {},
   "outputs": [
    {
     "data": {
      "image/png": "[encoded data removed]",
      "text/plain": [
       "<Figure size 1400x800 with 1 Axes>"
      ]
     },
     "metadata": {},
     "output_type": "display_data"
    }
   ],
   "source": [
    "# Let's visualize the distribution of UPDRS scores using box plots to identify potential outliers.\n",
    "# Plot box plots for UPDRS scores to visualize outliers\n",
    "plt.figure(figsize=(14, 8))\n",
    "sns.boxplot(data=train_clinical_data[['updrs_1', 'updrs_2', 'updrs_3', 'updrs_4']])\n",
    "plt.title('Box Plots for UPDRS Scores')\n",
    "plt.ylabel('Score Value')\n",
    "plt.show()"
   ]
  },
  {
   "cell_type": "markdown",
   "metadata": {},
   "source": [
    "There are potential outliers, especially in updrs_3 and updrs_4.\n",
    "The whiskers of the box plots can help in determining the range beyond which data points are considered outliers."
   ]
  },
  {
   "cell_type": "markdown",
   "metadata": {},
   "source": [
    "#### Detecting the outlier by IQR method"
   ]
  },
  {
   "cell_type": "code",
   "execution_count": 27,
   "metadata": {},
   "outputs": [
    {
     "data": {
      "text/plain": [
       "641"
      ]
     },
     "execution_count": 27,
     "metadata": {},
     "output_type": "execute_result"
    }
   ],
   "source": [
    "# Compute IQR for each UPDRS score\n",
    "Q1 = data_for_outliers.quantile(0.25)\n",
    "Q3 = data_for_outliers.quantile(0.75)\n",
    "IQR = Q3 - Q1\n",
    "\n",
    "# Identify outliers based on the IQR method\n",
    "outliers_iqr = ((data_for_outliers < (Q1 - 1.5 * IQR)) | (data_for_outliers > (Q3 + 1.5 * IQR))).any(axis=1)\n",
    "\n",
    "# Number of outliers identified by IQR method\n",
    "outliers_iqr.sum()\n"
   ]
  },
  {
   "cell_type": "markdown",
   "metadata": {},
   "source": [
    "#### Detect outliers by Mahalanobis Distance"
   ]
  },
  {
   "cell_type": "code",
   "execution_count": 28,
   "metadata": {},
   "outputs": [
    {
     "data": {
      "text/plain": [
       "328"
      ]
     },
     "execution_count": 28,
     "metadata": {},
     "output_type": "execute_result"
    }
   ],
   "source": [
    "# Extract UPDRS scores for outlier detection\n",
    "data_for_outliers = train_clinical_data[['updrs_1', 'updrs_2', 'updrs_3', 'updrs_4']]\n",
    "\n",
    "# Compute Robust Mahalanobis Distance using Minimum Covariance Determinant (MCD) method\n",
    "mcd = MinCovDet(random_state=42).fit(data_for_outliers)\n",
    "robust_mahalanobis_distance = mcd.mahalanobis(data_for_outliers)\n",
    "\n",
    "# Choose a threshold (e.g., based on chi-squared distribution with df equal to number of features)\n",
    "from scipy.stats import chi2\n",
    "threshold_rmd = chi2.ppf((1 - 0.01), df=data_for_outliers.shape[1])  # 99% confidence\n",
    "\n",
    "# Identify outliers based on the threshold\n",
    "outliers_rmd = np.where(robust_mahalanobis_distance > threshold_rmd)\n",
    "\n",
    "# Number of outliers identified by Robust Mahalanobis Distance\n",
    "len(outliers_rmd[0])\n"
   ]
  },
  {
   "cell_type": "code",
   "execution_count": 30,
   "metadata": {},
   "outputs": [
    {
     "data": {
      "text/plain": [
       "(205, 123, 436)"
      ]
     },
     "execution_count": 30,
     "metadata": {},
     "output_type": "execute_result"
    }
   ],
   "source": [
    "#### Comparing the results of the two methods\n",
    "# Overlap analysis\n",
    "outliers_rmd_set = set(outliers_rmd[0])\n",
    "outliers_iqr_set = set(outliers_iqr[outliers_iqr].index)\n",
    "\n",
    "# Outliers identified by both methods\n",
    "common_outliers = outliers_rmd_set.intersection(outliers_iqr_set)\n",
    "\n",
    "# Outliers identified only by Robust Mahalanobis Distance\n",
    "only_rmd_outliers = outliers_rmd_set - outliers_iqr_set\n",
    "\n",
    "# Outliers identified only by IQR method\n",
    "only_iqr_outliers = outliers_iqr_set - outliers_rmd_set\n",
    "\n",
    "len(common_outliers), len(only_rmd_outliers), len(only_iqr_outliers)"
   ]
  },
  {
   "cell_type": "markdown",
   "metadata": {},
   "source": [
    "* 205 data points are identified as outliers by both methods.\n",
    "* 123 data points are identified as outliers only by the Robust Mahalanobis Distance method.\n",
    "* 436 data points are identified as outliers only by the IQR method.\n",
    "##### Analysis of Potential Data Loss:\n",
    "If we were to remove the outliers identified by the IQR method (as it identified the most outliers), we'd lose 641 data points, 24.51% of the dataset. This is a significant proportion and could impact the predictive power of the model, especially if some of the removed data points contain crucial information"
   ]
  },
  {
   "cell_type": "code",
   "execution_count": 31,
   "metadata": {},
   "outputs": [],
   "source": [
    "# remove outliers using robust mahalanobis distance\n",
    "train_clinical_data = train_clinical_data.drop(index=only_rmd_outliers) # remove outliers identified by RMD"
   ]
  },
  {
   "cell_type": "code",
   "execution_count": 35,
   "metadata": {},
   "outputs": [
    {
     "name": "stdout",
     "output_type": "stream",
     "text": [
      "<class 'pandas.core.frame.DataFrame'>\n",
      "Index: 2492 entries, 0 to 2614\n",
      "Data columns (total 8 columns):\n",
      " #   Column                               Non-Null Count  Dtype  \n",
      "---  ------                               --------------  -----  \n",
      " 0   visit_id                             2492 non-null   object \n",
      " 1   patient_id                           2492 non-null   int64  \n",
      " 2   visit_month                          2492 non-null   int64  \n",
      " 3   updrs_1                              2492 non-null   float64\n",
      " 4   updrs_2                              2492 non-null   float64\n",
      " 5   updrs_3                              2492 non-null   float64\n",
      " 6   updrs_4                              2492 non-null   float64\n",
      " 7   upd23b_clinical_state_on_medication  2492 non-null   object \n",
      "dtypes: float64(4), int64(2), object(2)\n",
      "memory usage: 175.2+ KB\n"
     ]
    }
   ],
   "source": [
    "train_clinical_data.info()"
   ]
  },
  {
   "cell_type": "markdown",
   "metadata": {},
   "source": [
    "## 3.  Encoding, Feature Scaling, and Splitting the data "
   ]
  },
  {
   "cell_type": "code",
   "execution_count": 38,
   "metadata": {},
   "outputs": [
    {
     "data": {
      "text/plain": [
       "((2092, 5), (523, 5))"
      ]
     },
     "execution_count": 38,
     "metadata": {},
     "output_type": "execute_result"
    }
   ],
   "source": [
    "# One-hot encoding for the categorical feature\n",
    "encoded_features = pd.get_dummies(train_clinical_data['upd23b_clinical_state_on_medication'], prefix='medication')\n",
    "\n",
    "# Combine the UPDRS scores and encoded features\n",
    "X = pd.concat([train_clinical_data[['updrs_1', 'updrs_2', 'updrs_3', 'updrs_4']], encoded_features], axis=1)\n",
    "\n",
    "# Separate the target variable (we'll predict UPDRS Part 3 for this analysis)\n",
    "y = X.pop('updrs_3')\n",
    "\n",
    "# Split the data into training and test sets (80% train, 20% test)\n",
    "X_train, X_test, y_train, y_test = train_test_split(X, y, test_size=0.2, random_state=42)\n",
    "\n",
    "# Feature scaling\n",
    "scaler = StandardScaler()\n",
    "X_train_scaled = scaler.fit_transform(X_train)\n",
    "X_test_scaled = scaler.transform(X_test)\n",
    "\n",
    "X_train_scaled.shape, X_test_scaled.shape\n"
   ]
  },
  {
   "cell_type": "markdown",
   "metadata": {},
   "source": [
    "The data has been successfully scaled and encoded. The training set contains 2,092 samples, while the test set contains 523 samples. Each sample has 5 features: updrs_1, updrs_2, updrs_4, and two one-hot encoded features for upd23b_clinical_state_on_medication"
   ]
  }
 ],
 "metadata": {
  "kernelspec": {
   "display_name": "Python 3",
   "language": "python",
   "name": "python3"
  },
  "language_info": {
   "codemirror_mode": {
    "name": "ipython",
    "version": 3
   },
   "file_extension": ".py",
   "mimetype": "text/x-python",
   "name": "python",
   "nbconvert_exporter": "python",
   "pygments_lexer": "ipython3",
   "version": "3.10.11"
  }
 },
 "nbformat": 4,
 "nbformat_minor": 2
}
